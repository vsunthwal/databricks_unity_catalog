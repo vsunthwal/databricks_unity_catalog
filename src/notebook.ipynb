{
 "cells": [
  {
   "cell_type": "markdown",
   "metadata": {
    "application/vnd.databricks.v1+cell": {
     "cellMetadata": {},
     "inputWidgets": {},
     "nuid": "ee353e42-ff58-4955-9608-12865bd0950e",
     "showTitle": false,
     "title": ""
    }
   },
   "source": [
    "# Default notebook\n",
    "\n",
    "This default notebook is executed using Databricks Workflows as defined in resources/Unity_Catalog.job.yml."
   ]
  },
  {
   "cell_type": "code",
   "execution_count": null,
   "metadata": {},
   "outputs": [
    {
     "ename": "NameError",
     "evalue": "name 'spark' is not defined",
     "output_type": "error",
     "traceback": [
      "\u001b[31m---------------------------------------------------------------------------\u001b[39m",
      "\u001b[31mNameError\u001b[39m                                 Traceback (most recent call last)",
      "\u001b[36mCell\u001b[39m\u001b[36m \u001b[39m\u001b[32mIn[2]\u001b[39m\u001b[32m, line 1\u001b[39m\n\u001b[32m----> \u001b[39m\u001b[32m1\u001b[39m \u001b[43mspark\u001b[49m.sql(\u001b[33m\"\"\"\u001b[39m\n\u001b[32m      2\u001b[39m \u001b[33mCREATE SCHEMA IF NOT EXISTS testing_schema\u001b[39m\n\u001b[32m      3\u001b[39m \u001b[33mCOMMENT \u001b[39m\u001b[33m'\u001b[39m\u001b[33mSchema created using DAB\u001b[39m\u001b[33m'\u001b[39m\n\u001b[32m      4\u001b[39m \u001b[33m\"\"\"\u001b[39m)\n\u001b[32m      6\u001b[39m \u001b[38;5;66;03m# Create table if it doesn't exist\u001b[39;00m\n\u001b[32m      7\u001b[39m spark.sql(\u001b[33m\"\"\"\u001b[39m\n\u001b[32m      8\u001b[39m \u001b[33mCREATE TABLE IF NOT EXISTS testing_schema.test-table (\u001b[39m\n\u001b[32m      9\u001b[39m \u001b[33m  id INT,\u001b[39m\n\u001b[32m   (...)\u001b[39m\u001b[32m     12\u001b[39m \u001b[33mCOMMENT \u001b[39m\u001b[33m'\u001b[39m\u001b[33mSample table created using DAB\u001b[39m\u001b[33m'\u001b[39m\n\u001b[32m     13\u001b[39m \u001b[33m\"\"\"\u001b[39m)\n",
      "\u001b[31mNameError\u001b[39m: name 'spark' is not defined"
     ]
    }
   ],
   "source": [
    "spark.sql(\"\"\"\n",
    "CREATE SCHEMA IF NOT EXISTS testing_schema\n",
    "COMMENT 'Schema created using DAB'\n",
    "\"\"\")\n",
    "\n",
    "# Create table if it doesn't exist\n",
    "spark.sql(\"\"\"\n",
    "CREATE TABLE IF NOT EXISTS testing_schema.test (\n",
    "  id INT,\n",
    "  name STRING\n",
    ")\n",
    "COMMENT 'Sample table created using DAB'\n",
    "\"\"\")\n",
    "\n"
   ]
  }
 ],
 "metadata": {
  "application/vnd.databricks.v1+notebook": {
   "dashboards": [],
   "language": "python",
   "notebookMetadata": {
    "pythonIndentUnit": 2
   },
   "notebookName": "notebook",
   "widgets": {}
  },
  "kernelspec": {
   "display_name": "Python 3",
   "language": "python",
   "name": "python3"
  },
  "language_info": {
   "codemirror_mode": {
    "name": "ipython",
    "version": 3
   },
   "file_extension": ".py",
   "mimetype": "text/x-python",
   "name": "python",
   "nbconvert_exporter": "python",
   "pygments_lexer": "ipython3",
   "version": "3.13.3"
  }
 },
 "nbformat": 4,
 "nbformat_minor": 0
}
